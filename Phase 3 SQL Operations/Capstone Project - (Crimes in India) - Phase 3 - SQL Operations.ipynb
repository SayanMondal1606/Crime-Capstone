{
 "cells": [
  {
   "cell_type": "markdown",
   "id": "4091c474",
   "metadata": {},
   "source": [
    "# Capstone Project"
   ]
  },
  {
   "cell_type": "markdown",
   "id": "27cfb151",
   "metadata": {},
   "source": [
    "# (Crimes in India)"
   ]
  },
  {
   "cell_type": "markdown",
   "id": "aaaf6181",
   "metadata": {},
   "source": [
    "# Phase 3"
   ]
  },
  {
   "cell_type": "markdown",
   "id": "21328adc",
   "metadata": {},
   "source": [
    "# SQL Operations\n",
    "\n",
    "\n",
    "\n",
    "\n",
    "\n",
    "\n",
    "\n"
   ]
  },
  {
   "cell_type": "markdown",
   "id": "0d280cd3",
   "metadata": {},
   "source": [
    "3.1\tInsert records from 42_District_wise_crimes_committed_against_women_2001_2012.csv into a table"
   ]
  },
  {
   "cell_type": "code",
   "execution_count": 19,
   "id": "53987101",
   "metadata": {},
   "outputs": [],
   "source": [
    "from pyspark.sql import SparkSession"
   ]
  },
  {
   "cell_type": "code",
   "execution_count": 20,
   "id": "cd8e0f8a",
   "metadata": {},
   "outputs": [],
   "source": [
    "spark=SparkSession.builder.appName('Crimes').getOrCreate()"
   ]
  },
  {
   "cell_type": "code",
   "execution_count": 21,
   "id": "e8b24f01",
   "metadata": {},
   "outputs": [
    {
     "name": "stdout",
     "output_type": "stream",
     "text": [
      "First few rows of the DataFrame:\n",
      "+--------------+-------------+----+----+------------------------+------------+---------------------------------------------------+--------------------------+-----------------------------------+--------------------+\n",
      "|      STATE/UT|     DISTRICT|Year|Rape|Kidnapping and Abduction|Dowry Deaths|Assault on women with intent to outrage her modesty|Insult to modesty of Women|Cruelty by Husband or his Relatives|Importation of Girls|\n",
      "+--------------+-------------+----+----+------------------------+------------+---------------------------------------------------+--------------------------+-----------------------------------+--------------------+\n",
      "|ANDHRA PRADESH|     ADILABAD|2001|  50|                      30|          16|                                                149|                        34|                                175|                   0|\n",
      "|ANDHRA PRADESH|    ANANTAPUR|2001|  23|                      30|           7|                                                118|                        24|                                154|                   0|\n",
      "|ANDHRA PRADESH|     CHITTOOR|2001|  27|                      34|          14|                                                112|                        83|                                186|                   0|\n",
      "|ANDHRA PRADESH|     CUDDAPAH|2001|  20|                      20|          17|                                                126|                        38|                                 57|                   0|\n",
      "|ANDHRA PRADESH|EAST GODAVARI|2001|  23|                      26|          12|                                                109|                        58|                                247|                   0|\n",
      "+--------------+-------------+----+----+------------------------+------------+---------------------------------------------------+--------------------------+-----------------------------------+--------------------+\n",
      "only showing top 5 rows\n",
      "\n",
      "+--------------+-----------------+----+----+------------------------+------------+---------------------------------------------------+--------------------------+-----------------------------------+--------------------+\n",
      "|      STATE/UT|         DISTRICT|Year|Rape|Kidnapping and Abduction|Dowry Deaths|Assault on women with intent to outrage her modesty|Insult to modesty of Women|Cruelty by Husband or his Relatives|Importation of Girls|\n",
      "+--------------+-----------------+----+----+------------------------+------------+---------------------------------------------------+--------------------------+-----------------------------------+--------------------+\n",
      "|ANDHRA PRADESH|         ADILABAD|2001|  50|                      30|          16|                                                149|                        34|                                175|                   0|\n",
      "|ANDHRA PRADESH|        ANANTAPUR|2001|  23|                      30|           7|                                                118|                        24|                                154|                   0|\n",
      "|ANDHRA PRADESH|         CHITTOOR|2001|  27|                      34|          14|                                                112|                        83|                                186|                   0|\n",
      "|ANDHRA PRADESH|         CUDDAPAH|2001|  20|                      20|          17|                                                126|                        38|                                 57|                   0|\n",
      "|ANDHRA PRADESH|    EAST GODAVARI|2001|  23|                      26|          12|                                                109|                        58|                                247|                   0|\n",
      "|ANDHRA PRADESH|    GUNTAKAL RLY.|2001|   0|                       0|           0|                                                  1|                         0|                                  0|                   0|\n",
      "|ANDHRA PRADESH|           GUNTUR|2001|  54|                      51|           7|                                                139|                       129|                                378|                   0|\n",
      "|ANDHRA PRADESH|   HYDERABAD CITY|2001|  37|                      39|          24|                                                118|                        27|                                746|                   0|\n",
      "|ANDHRA PRADESH|       KARIMNAGAR|2001|  56|                      49|          62|                                                414|                        81|                                224|                   0|\n",
      "|ANDHRA PRADESH|          KHAMMAM|2001|  47|                      30|          17|                                                180|                       336|                                172|                   0|\n",
      "|ANDHRA PRADESH|          KRISHNA|2001|  37|                      21|          10|                                                208|                        72|                                265|                   0|\n",
      "|ANDHRA PRADESH|          KURNOOL|2001|  29|                      47|          13|                                                141|                       107|                                 92|                   0|\n",
      "|ANDHRA PRADESH|    MAHABOOBNAGAR|2001|  59|                      27|          14|                                                176|                        41|                                 69|                   0|\n",
      "|ANDHRA PRADESH|            MEDAK|2001|  35|                      20|          26|                                                100|                        25|                                192|                   0|\n",
      "|ANDHRA PRADESH|         NALGONDA|2001|  35|                      19|          31|                                                188|                        59|                                214|                   0|\n",
      "|ANDHRA PRADESH|          NELLORE|2001|  46|                      80|          10|                                                207|                       228|                                287|                   0|\n",
      "|ANDHRA PRADESH|        NIZAMABAD|2001|  21|                      21|          19|                                                 55|                        15|                                228|                   0|\n",
      "|ANDHRA PRADESH|        PRAKASHAM|2001|  19|                      12|           5|                                                140|                       100|                                119|                   0|\n",
      "|ANDHRA PRADESH|      RANGA REDDY|2001|  72|                      83|          37|                                                113|                        55|                                421|                   7|\n",
      "|ANDHRA PRADESH|SECUNDERABAD RLY.|2001|   0|                       0|           1|                                                  0|                         1|                                  0|                   0|\n",
      "+--------------+-----------------+----+----+------------------------+------------+---------------------------------------------------+--------------------------+-----------------------------------+--------------------+\n",
      "only showing top 20 rows\n",
      "\n"
     ]
    }
   ],
   "source": [
    "from pyspark.sql import SparkSession\n",
    "\n",
    "# Create a SparkSession\n",
    "spark = SparkSession.builder \\\n",
    "    .appName(\"CreateTableAndInsertData\") \\\n",
    "    .getOrCreate()\n",
    "\n",
    "# Define the schema\n",
    "schema = \"\"\"\n",
    "    State_UT VARCHAR(255),\n",
    "    District VARCHAR(255),\n",
    "    Year INT,\n",
    "    Rape INT,\n",
    "    Kidnapping INT,\n",
    "    Dowry_Deaths INT,\n",
    "    Assault_on_women_with_intent_to_outrage_her_modesty INT,\n",
    "    insult_to_modesty_of_women INT,\n",
    "    Cruelty_by_Husband_or_his_Relatives INT,\n",
    "    Importation_of_Girls INT\n",
    "\"\"\"\n",
    "\n",
    "# Read data from CSV\n",
    "data_path = \"file:///C:/Users/Sayan Mondal/Downloads/India_Crime - Copy/India_Crime - Copy/42_District_wise_crimes_committed_against_women_2001_2012.csv\"\n",
    "df = spark.read.csv(data_path, header=True, inferSchema=True)\n",
    "\n",
    "# Print the first few rows of the DataFrame\n",
    "print(\"First few rows of the DataFrame:\")\n",
    "df.show(5)\n",
    "\n",
    "# Create a temporary view of the DataFrame\n",
    "df.createOrReplaceTempView(\"crime_data\")\n",
    "\n",
    "df.show()"
   ]
  },
  {
   "cell_type": "code",
   "execution_count": 4,
   "id": "19dc6162",
   "metadata": {},
   "outputs": [
    {
     "data": {
      "text/plain": [
       "['STATE/UT',\n",
       " 'DISTRICT',\n",
       " 'Year',\n",
       " 'Rape',\n",
       " 'Kidnapping and Abduction',\n",
       " 'Dowry Deaths',\n",
       " 'Assault on women with intent to outrage her modesty',\n",
       " 'Insult to modesty of Women',\n",
       " 'Cruelty by Husband or his Relatives',\n",
       " 'Importation of Girls']"
      ]
     },
     "execution_count": 4,
     "metadata": {},
     "output_type": "execute_result"
    }
   ],
   "source": [
    "df.columns"
   ]
  },
  {
   "cell_type": "markdown",
   "id": "0fd6170e",
   "metadata": {},
   "source": [
    "3.2\tWrite SQL query to find the highest number of rapes & Kidnappings that happened in which state, District, and year"
   ]
  },
  {
   "cell_type": "code",
   "execution_count": 22,
   "id": "4e93b7b5",
   "metadata": {},
   "outputs": [
    {
     "name": "stdout",
     "output_type": "stream",
     "text": [
      "+--------------+--------+----+----+------------------------+\n",
      "|      STATE/UT|DISTRICT|Year|Rape|Kidnapping and Abduction|\n",
      "+--------------+--------+----+----+------------------------+\n",
      "|MADHYA PRADESH|   TOTAL|2012|3425|                    1127|\n",
      "| UTTAR PRADESH|   TOTAL|2012|1963|                    7910|\n",
      "+--------------+--------+----+----+------------------------+\n",
      "\n"
     ]
    }
   ],
   "source": [
    "from pyspark.sql.functions import col, max\n",
    "# Find the maximum number of rapes and kidnappings\n",
    "max_values = df.selectExpr(\"max(Rape) as max_rape\", \"max(`Kidnapping and Abduction`) as max_kidnapping\").first()\n",
    "\n",
    "# Extract the maximum values\n",
    "max_rape = max_values[\"max_rape\"]\n",
    "max_kidnapping = max_values[\"max_kidnapping\"]\n",
    "\n",
    "# Filter the DataFrame to get the corresponding state, district, and year\n",
    "result = df.filter((col(\"Rape\") == max_rape) | (col(\"Kidnapping and Abduction\") == max_kidnapping)) \\\n",
    "           .select(\"STATE/UT\", \"DISTRICT\", \"Year\", \"Rape\", \"Kidnapping and Abduction\")\n",
    "\n",
    "# Show the result\n",
    "result.show()"
   ]
  },
  {
   "cell_type": "markdown",
   "id": "3ba09591",
   "metadata": {},
   "source": [
    "3.3\tWrite SQL query to find All the lowest number of rapes & Kidnappings that happened in which state, District, and year"
   ]
  },
  {
   "cell_type": "code",
   "execution_count": 23,
   "id": "5da0f341",
   "metadata": {},
   "outputs": [
    {
     "name": "stdout",
     "output_type": "stream",
     "text": [
      "+-----------------+-----------------+----+----+------------------------+------------+---------------------------------------------------+--------------------------+-----------------------------------+--------------------+\n",
      "|         STATE/UT|         DISTRICT|Year|Rape|Kidnapping and Abduction|Dowry Deaths|Assault on women with intent to outrage her modesty|Insult to modesty of Women|Cruelty by Husband or his Relatives|Importation of Girls|\n",
      "+-----------------+-----------------+----+----+------------------------+------------+---------------------------------------------------+--------------------------+-----------------------------------+--------------------+\n",
      "|   ANDHRA PRADESH|    GUNTAKAL RLY.|2001|   0|                       0|           0|                                                  1|                         0|                                  0|                   0|\n",
      "|   ANDHRA PRADESH|SECUNDERABAD RLY.|2001|   0|                       0|           1|                                                  0|                         1|                                  0|                   0|\n",
      "|ARUNACHAL PRADESH|      KAMENG WEST|2001|   0|                       2|           0|                                                  0|                         0|                                  0|                   0|\n",
      "|            ASSAM|           C.I.D.|2001|   0|                       0|           0|                                                  0|                         0|                                  0|                   0|\n",
      "|            BIHAR|            ARWAL|2001|   0|                       0|           7|                                                 11|                         0|                                 14|                   0|\n",
      "|            BIHAR|     KATIHAR RLY.|2001|   0|                       1|           0|                                                  2|                         0|                                  0|                   0|\n",
      "|     CHHATTISGARH|       GRP RAIPUR|2001|   0|                       0|           0|                                                  4|                         0|                                  1|                   0|\n",
      "|          HARYANA|              GRP|2001|   0|                       2|           5|                                                  1|                        26|                                  0|                   0|\n",
      "| HIMACHAL PRADESH|           G.R.P.|2001|   0|                       0|           0|                                                  0|                         0|                                  0|                   0|\n",
      "|  JAMMU & KASHMIR|      CRIME JAMMU|2001|   0|                       0|           0|                                                  0|                         0|                                  0|                   0|\n",
      "|  JAMMU & KASHMIR|   CRIME SRINAGAR|2001|   0|                       0|           0|                                                  0|                         0|                                  0|                   0|\n",
      "|  JAMMU & KASHMIR|           KARGIL|2001|   0|                       1|           0|                                                  1|                         0|                                  0|                   0|\n",
      "|  JAMMU & KASHMIR|              LEH|2001|   0|                       1|           0|                                                  1|                         0|                                  0|                   0|\n",
      "|  JAMMU & KASHMIR|         RAILWAYS|2001|   0|                       0|           0|                                                  0|                         0|                                  0|                   0|\n",
      "|   MADHYA PRADESH|    JABALPUR RLY.|2001|   0|                       0|           1|                                                  4|                         0|                                  0|                   0|\n",
      "|      MAHARASHTRA|        PUNE RLY.|2001|   0|                       0|           0|                                                  3|                         0|                                  0|                   0|\n",
      "|          MANIPUR|          CHANDEL|2001|   0|                       1|           0|                                                  0|                         0|                                  0|                   0|\n",
      "|          MANIPUR|         SENAPATI|2001|   0|                       0|           0|                                                  0|                         0|                                  0|                   0|\n",
      "|          MANIPUR|       TAMENGLONG|2001|   0|                       0|           0|                                                  0|                         0|                                  0|                   0|\n",
      "|          MANIPUR|           UKHRUL|2001|   0|                       1|           0|                                                  1|                         0|                                  0|                   0|\n",
      "+-----------------+-----------------+----+----+------------------------+------------+---------------------------------------------------+--------------------------+-----------------------------------+--------------------+\n",
      "only showing top 20 rows\n",
      "\n"
     ]
    }
   ],
   "source": [
    "from pyspark.sql.functions import col, min\n",
    "\n",
    "min_murders = df.select(min(col(\"Rape\"))).first()[0]\n",
    "\n",
    "# Filter the DataFrame to get rows where murders are at the minimum\n",
    "lowest_murder_districts = df.filter(col(\"Rape\") == min_murders)\n",
    "\n",
    "# Show the result\n",
    "lowest_murder_districts.show()"
   ]
  },
  {
   "cell_type": "code",
   "execution_count": null,
   "id": "fa219b1e",
   "metadata": {},
   "outputs": [],
   "source": []
  },
  {
   "cell_type": "code",
   "execution_count": 24,
   "id": "3d2bb27a",
   "metadata": {},
   "outputs": [
    {
     "name": "stdout",
     "output_type": "stream",
     "text": [
      "+-----------------+----+----------+\n",
      "|         DISTRICT|Year|Total_Rape|\n",
      "+-----------------+----+----------+\n",
      "|24 PARGANAS NORTH|2001|        53|\n",
      "|24 PARGANAS NORTH|2002|        88|\n",
      "|24 PARGANAS NORTH|2003|        92|\n",
      "|24 PARGANAS NORTH|2004|       176|\n",
      "|24 PARGANAS NORTH|2005|       217|\n",
      "|24 PARGANAS NORTH|2006|       174|\n",
      "|24 PARGANAS NORTH|2007|       231|\n",
      "|24 PARGANAS NORTH|2008|       192|\n",
      "|24 PARGANAS NORTH|2009|       166|\n",
      "|24 PARGANAS NORTH|2010|       173|\n",
      "|24 PARGANAS NORTH|2011|       203|\n",
      "|24 PARGANAS NORTH|2012|       118|\n",
      "|24 PARGANAS SOUTH|2001|        47|\n",
      "|24 PARGANAS SOUTH|2002|        68|\n",
      "|24 PARGANAS SOUTH|2003|        89|\n",
      "|24 PARGANAS SOUTH|2004|       122|\n",
      "|24 PARGANAS SOUTH|2005|       136|\n",
      "|24 PARGANAS SOUTH|2006|       190|\n",
      "|24 PARGANAS SOUTH|2007|       205|\n",
      "|24 PARGANAS SOUTH|2008|       308|\n",
      "+-----------------+----+----------+\n",
      "only showing top 20 rows\n",
      "\n"
     ]
    }
   ],
   "source": [
    "from pyspark.sql import functions as F\n",
    "\n",
    "# Filter the DataFrame for 'Murder' column\n",
    "murder_df = df.select('DISTRICT', 'Year', 'Rape')\n",
    "\n",
    "# Group by 'DISTRICT' and 'Year' and sum up the murders\n",
    "murder_count = murder_df.groupBy('DISTRICT', 'Year').agg(F.sum('Rape').alias('Total_Rape'))\n",
    "\n",
    "# Sort the result in ascending order by 'DISTRICT' and 'Year'\n",
    "sorted_murder_count = murder_count.orderBy('DISTRICT', 'Year')\n",
    "\n",
    "# Show the result\n",
    "sorted_murder_count.show()"
   ]
  },
  {
   "cell_type": "markdown",
   "id": "d5634241",
   "metadata": {},
   "source": [
    "3.4\tInsert records from 02_District_wise_crimes_committed_against_ST_2001_2012.csv into a new table"
   ]
  },
  {
   "cell_type": "code",
   "execution_count": 32,
   "id": "0e960cfa",
   "metadata": {},
   "outputs": [
    {
     "name": "stdout",
     "output_type": "stream",
     "text": [
      "Data from 'C:/Users/Sayan Mondal/Downloads/India_Crime - Copy/India_Crime - Copy/02_District_wise_crimes_committed_against_ST_2001_2012.csv' successfully read into a DataFrame\n"
     ]
    }
   ],
   "source": [
    "from pyspark.sql import SparkSession\n",
    "\n",
    "# Create a SparkSession\n",
    "spark = SparkSession.builder.appName(\"CrimesData\").getOrCreate()\n",
    "\n",
    "# Define the path to your CSV file\n",
    "csv_path = \"C:/Users/Sayan Mondal/Downloads/India_Crime - Copy/India_Crime - Copy/02_District_wise_crimes_committed_against_ST_2001_2012.csv\"\n",
    "\n",
    "# Read the CSV data into a DataFrame (without header)\n",
    "df1 = spark.read.csv(csv_path, header=False)\n",
    "\n",
    "# Print a message to confirm successful reading\n",
    "print(f\"Data from '{csv_path}' successfully read into a DataFrame\")"
   ]
  },
  {
   "cell_type": "code",
   "execution_count": 33,
   "id": "b0c107c0",
   "metadata": {},
   "outputs": [
    {
     "name": "stdout",
     "output_type": "stream",
     "text": [
      "+--------------+--------------+----+------+----+--------------------+-------+-------+-----+----+--------------------+--------------------+--------------------+\n",
      "|           _c0|           _c1| _c2|   _c3| _c4|                 _c5|    _c6|    _c7|  _c8| _c9|                _c10|                _c11|                _c12|\n",
      "+--------------+--------------+----+------+----+--------------------+-------+-------+-----+----+--------------------+--------------------+--------------------+\n",
      "|      STATE/UT|      DISTRICT|Year|Murder|Rape|Kidnapping Abduction|Dacoity|Robbery|Arson|Hurt|Protection of Civ...|Prevention of atr...|Other Crimes Agai...|\n",
      "|ANDHRA PRADESH|      ADILABAD|2001|     0|   1|                   2|      0|      0|    0|   2|                   0|                   0|                  13|\n",
      "|ANDHRA PRADESH|     ANANTAPUR|2001|     0|   0|                   0|      0|      0|    0|   7|                   0|                   1|                   6|\n",
      "|ANDHRA PRADESH|      CHITTOOR|2001|     0|   0|                   0|      0|      0|    0|   2|                   0|                   0|                   0|\n",
      "|ANDHRA PRADESH|      CUDDAPAH|2001|     0|   0|                   0|      0|      0|    0|   2|                   0|                   2|                   0|\n",
      "|ANDHRA PRADESH| EAST GODAVARI|2001|     0|   0|                   0|      0|      0|    0|   0|                   0|                   0|                  14|\n",
      "|ANDHRA PRADESH| GUNTAKAL RLY.|2001|     0|   0|                   0|      0|      0|    0|   0|                   0|                   0|                   0|\n",
      "|ANDHRA PRADESH|        GUNTUR|2001|     0|   2|                   1|      0|      0|    0|  10|                   0|                   3|                  19|\n",
      "|ANDHRA PRADESH|HYDERABAD CITY|2001|     0|   0|                   0|      0|      0|    0|   0|                   0|                   0|                   2|\n",
      "|ANDHRA PRADESH|    KARIMNAGAR|2001|     0|   0|                   0|      0|      0|    0|  15|                   0|                   0|                   2|\n",
      "|ANDHRA PRADESH|       KHAMMAM|2001|     1|   4|                   0|      0|      0|    0|   8|                   0|                   9|                  20|\n",
      "|ANDHRA PRADESH|       KRISHNA|2001|     0|   0|                   1|      0|      0|    0|   6|                   0|                  24|                  18|\n",
      "|ANDHRA PRADESH|       KURNOOL|2001|     0|   0|                   0|      0|      0|    0|   0|                   0|                   0|                   0|\n",
      "|ANDHRA PRADESH| MAHABOOBNAGAR|2001|     1|   1|                   0|      0|      0|    0|   6|                   0|                  11|                   0|\n",
      "|ANDHRA PRADESH|         MEDAK|2001|     0|   1|                   0|      0|      0|    1|   0|                   0|                   4|                   3|\n",
      "|ANDHRA PRADESH|      NALGONDA|2001|     1|   4|                   0|      0|      0|    0|   1|                   0|                  12|                   0|\n",
      "|ANDHRA PRADESH|       NELLORE|2001|     1|   1|                   0|      0|      0|    0|   3|                   0|                  11|                  12|\n",
      "|ANDHRA PRADESH|     NIZAMABAD|2001|     0|   0|                   0|      0|      0|    0|   1|                   0|                   0|                  12|\n",
      "|ANDHRA PRADESH|     PRAKASHAM|2001|     0|   0|                   0|      0|      0|    0|   4|                   0|                   8|                   0|\n",
      "|ANDHRA PRADESH|   RANGA REDDY|2001|     0|   2|                   0|      0|      0|    0|   4|                   1|                  10|                  33|\n",
      "+--------------+--------------+----+------+----+--------------------+-------+-------+-----+----+--------------------+--------------------+--------------------+\n",
      "only showing top 20 rows\n",
      "\n"
     ]
    }
   ],
   "source": [
    "df1.show()"
   ]
  },
  {
   "cell_type": "code",
   "execution_count": 35,
   "id": "306a4600",
   "metadata": {},
   "outputs": [
    {
     "data": {
      "text/plain": [
       "['_c0',\n",
       " '_c1',\n",
       " '_c2',\n",
       " '_c3',\n",
       " '_c4',\n",
       " '_c5',\n",
       " '_c6',\n",
       " '_c7',\n",
       " '_c8',\n",
       " '_c9',\n",
       " '_c10',\n",
       " '_c11',\n",
       " '_c12']"
      ]
     },
     "execution_count": 35,
     "metadata": {},
     "output_type": "execute_result"
    }
   ],
   "source": [
    "df1.columns"
   ]
  },
  {
   "cell_type": "code",
   "execution_count": 36,
   "id": "5102c89d",
   "metadata": {},
   "outputs": [
    {
     "name": "stdout",
     "output_type": "stream",
     "text": [
      "+--------------+-----------------+----+------+----+--------------------+-------+-------+-----+----+------------------------------------+----------------------------------+------------------------+\n",
      "|      STATE/UT|         DISTRICT|Year|Murder|Rape|Kidnapping Abduction|Dacoity|Robbery|Arson|Hurt|Protection of Civil Rights (PCR) Act|Prevention of atrocities (POA) Act|Other Crimes Against STs|\n",
      "+--------------+-----------------+----+------+----+--------------------+-------+-------+-----+----+------------------------------------+----------------------------------+------------------------+\n",
      "|ANDHRA PRADESH|         ADILABAD|2001|     0|   1|                   2|      0|      0|    0|   2|                                   0|                                 0|                      13|\n",
      "|ANDHRA PRADESH|        ANANTAPUR|2001|     0|   0|                   0|      0|      0|    0|   7|                                   0|                                 1|                       6|\n",
      "|ANDHRA PRADESH|         CHITTOOR|2001|     0|   0|                   0|      0|      0|    0|   2|                                   0|                                 0|                       0|\n",
      "|ANDHRA PRADESH|         CUDDAPAH|2001|     0|   0|                   0|      0|      0|    0|   2|                                   0|                                 2|                       0|\n",
      "|ANDHRA PRADESH|    EAST GODAVARI|2001|     0|   0|                   0|      0|      0|    0|   0|                                   0|                                 0|                      14|\n",
      "|ANDHRA PRADESH|    GUNTAKAL RLY.|2001|     0|   0|                   0|      0|      0|    0|   0|                                   0|                                 0|                       0|\n",
      "|ANDHRA PRADESH|           GUNTUR|2001|     0|   2|                   1|      0|      0|    0|  10|                                   0|                                 3|                      19|\n",
      "|ANDHRA PRADESH|   HYDERABAD CITY|2001|     0|   0|                   0|      0|      0|    0|   0|                                   0|                                 0|                       2|\n",
      "|ANDHRA PRADESH|       KARIMNAGAR|2001|     0|   0|                   0|      0|      0|    0|  15|                                   0|                                 0|                       2|\n",
      "|ANDHRA PRADESH|          KHAMMAM|2001|     1|   4|                   0|      0|      0|    0|   8|                                   0|                                 9|                      20|\n",
      "|ANDHRA PRADESH|          KRISHNA|2001|     0|   0|                   1|      0|      0|    0|   6|                                   0|                                24|                      18|\n",
      "|ANDHRA PRADESH|          KURNOOL|2001|     0|   0|                   0|      0|      0|    0|   0|                                   0|                                 0|                       0|\n",
      "|ANDHRA PRADESH|    MAHABOOBNAGAR|2001|     1|   1|                   0|      0|      0|    0|   6|                                   0|                                11|                       0|\n",
      "|ANDHRA PRADESH|            MEDAK|2001|     0|   1|                   0|      0|      0|    1|   0|                                   0|                                 4|                       3|\n",
      "|ANDHRA PRADESH|         NALGONDA|2001|     1|   4|                   0|      0|      0|    0|   1|                                   0|                                12|                       0|\n",
      "|ANDHRA PRADESH|          NELLORE|2001|     1|   1|                   0|      0|      0|    0|   3|                                   0|                                11|                      12|\n",
      "|ANDHRA PRADESH|        NIZAMABAD|2001|     0|   0|                   0|      0|      0|    0|   1|                                   0|                                 0|                      12|\n",
      "|ANDHRA PRADESH|        PRAKASHAM|2001|     0|   0|                   0|      0|      0|    0|   4|                                   0|                                 8|                       0|\n",
      "|ANDHRA PRADESH|      RANGA REDDY|2001|     0|   2|                   0|      0|      0|    0|   4|                                   1|                                10|                      33|\n",
      "|ANDHRA PRADESH|SECUNDERABAD RLY.|2001|     0|   0|                   0|      0|      0|    0|   0|                                   0|                                 0|                       0|\n",
      "+--------------+-----------------+----+------+----+--------------------+-------+-------+-----+----+------------------------------------+----------------------------------+------------------------+\n",
      "only showing top 20 rows\n",
      "\n"
     ]
    }
   ],
   "source": [
    "# Delete the first row (column headings row)\n",
    "df1 = df1.filter(df1[\"_c0\"] != \"column_heading_1\")\n",
    "\n",
    "# Set the first row as column names\n",
    "new_columns = df1.first()\n",
    "df1 = df1.filter(df1._c0 != new_columns[0])\n",
    "df1 = df1.toDF(*new_columns)\n",
    "\n",
    "# Show the resulting dataframe\n",
    "df1.show()"
   ]
  },
  {
   "cell_type": "code",
   "execution_count": 37,
   "id": "ea2c4790",
   "metadata": {},
   "outputs": [
    {
     "data": {
      "text/plain": [
       "['STATE/UT',\n",
       " 'DISTRICT',\n",
       " 'Year',\n",
       " 'Murder',\n",
       " 'Rape',\n",
       " 'Kidnapping Abduction',\n",
       " 'Dacoity',\n",
       " 'Robbery',\n",
       " 'Arson',\n",
       " 'Hurt',\n",
       " 'Protection of Civil Rights (PCR) Act',\n",
       " 'Prevention of atrocities (POA) Act',\n",
       " 'Other Crimes Against STs']"
      ]
     },
     "execution_count": 37,
     "metadata": {},
     "output_type": "execute_result"
    }
   ],
   "source": [
    "df1.columns"
   ]
  },
  {
   "cell_type": "markdown",
   "id": "528586ae",
   "metadata": {},
   "source": [
    "3.5\tWrite SQL query to find the highest number of dacoity/robbery in which district."
   ]
  },
  {
   "cell_type": "code",
   "execution_count": 39,
   "id": "b44fd6cf",
   "metadata": {},
   "outputs": [
    {
     "name": "stdout",
     "output_type": "stream",
     "text": [
      "District with the highest number of Dacoity or Robbery: DAHOD\n"
     ]
    }
   ],
   "source": [
    "from pyspark.sql import functions as F\n",
    "\n",
    "# Filter out the row with the district named \"TOTAL\"\n",
    "filtered_df = df1.filter(F.col('DISTRICT') != 'TOTAL')\n",
    "\n",
    "# Filter the DataFrame for 'Dacoity' and 'Robbery' columns\n",
    "dacoity_robbery_df = filtered_df.select('DISTRICT', 'Dacoity', 'Robbery')\n",
    "\n",
    "# Add a new column to calculate the total of 'Dacoity' and 'Robbery'\n",
    "dacoity_robbery_df = dacoity_robbery_df.withColumn('Total_Dacoity_Robbery', F.col('Dacoity') + F.col('Robbery'))\n",
    "\n",
    "# Find the district with the highest total of 'Dacoity' and 'Robbery'\n",
    "highest_dacoity_robbery_district = dacoity_robbery_df.orderBy(F.col('Total_Dacoity_Robbery').desc()).select('DISTRICT').first()\n",
    "\n",
    "print(\"District with the highest number of Dacoity or Robbery:\", highest_dacoity_robbery_district[0])\n",
    "\n"
   ]
  },
  {
   "cell_type": "markdown",
   "id": "fc58bf65",
   "metadata": {},
   "source": [
    "3.6\tWrite SQL query to find in which districts(All) the lowest number of murders happened"
   ]
  },
  {
   "cell_type": "code",
   "execution_count": 40,
   "id": "c39e2bd5",
   "metadata": {},
   "outputs": [
    {
     "name": "stdout",
     "output_type": "stream",
     "text": [
      "+-----------------+-----------+\n",
      "|         DISTRICT|Min_Murders|\n",
      "+-----------------+-----------+\n",
      "|24 PARGANAS NORTH|          0|\n",
      "|24 PARGANAS SOUTH|          0|\n",
      "|  A and N ISLANDS|          0|\n",
      "|         ADILABAD|          0|\n",
      "|             AGRA|          0|\n",
      "| AHMEDABAD COMMR.|          0|\n",
      "|  AHMEDABAD RURAL|          0|\n",
      "|       AHMEDNAGAR|          0|\n",
      "|        AHWA-DANG|          0|\n",
      "|           AIZAWL|          0|\n",
      "|            AJMER|          0|\n",
      "|            AKOLA|          0|\n",
      "|         ALAPUZHA|          0|\n",
      "|          ALIGARH|          0|\n",
      "|        ALIRAJPUR|          0|\n",
      "|        ALLAHABAD|          0|\n",
      "|           ALMORA|          0|\n",
      "|            ALWAR|          0|\n",
      "|           AMBALA|          0|\n",
      "|     AMBALA RURAL|          0|\n",
      "+-----------------+-----------+\n",
      "only showing top 20 rows\n",
      "\n"
     ]
    }
   ],
   "source": [
    "from pyspark.sql import functions as F\n",
    "\n",
    "# Select the necessary columns from the DataFrame\n",
    "murder_df = df1.select('DISTRICT', 'Murder')\n",
    "\n",
    "# Group by 'DISTRICT' and find the minimum number of murders\n",
    "min_murders_by_district = murder_df.groupBy('DISTRICT').agg(F.min('Murder').alias('Min_Murders'))\n",
    "\n",
    "# Sort the result in ascending order by the minimum number of murders\n",
    "sorted_min_murders = min_murders_by_district.orderBy('Min_Murders')\n",
    "\n",
    "# Show the districts with the lowest number of murders\n",
    "sorted_min_murders.show()\n"
   ]
  },
  {
   "cell_type": "markdown",
   "id": "6079e737",
   "metadata": {},
   "source": [
    "3.7\tWrite SQL query to find the number of murders in ascending order in district and yearwise."
   ]
  },
  {
   "cell_type": "code",
   "execution_count": 41,
   "id": "000b090d",
   "metadata": {},
   "outputs": [
    {
     "name": "stdout",
     "output_type": "stream",
     "text": [
      "+-----------------+----+-------------+\n",
      "|         DISTRICT|Year|Total_Murders|\n",
      "+-----------------+----+-------------+\n",
      "|24 PARGANAS NORTH|2001|          0.0|\n",
      "|24 PARGANAS NORTH|2002|          0.0|\n",
      "|24 PARGANAS NORTH|2003|          0.0|\n",
      "|24 PARGANAS NORTH|2004|          0.0|\n",
      "|24 PARGANAS NORTH|2005|          0.0|\n",
      "|24 PARGANAS NORTH|2006|          0.0|\n",
      "|24 PARGANAS NORTH|2007|          0.0|\n",
      "|24 PARGANAS NORTH|2008|          0.0|\n",
      "|24 PARGANAS NORTH|2009|          0.0|\n",
      "|24 PARGANAS NORTH|2010|          0.0|\n",
      "|24 PARGANAS NORTH|2011|          0.0|\n",
      "|24 PARGANAS NORTH|2012|          0.0|\n",
      "|24 PARGANAS SOUTH|2001|          0.0|\n",
      "|24 PARGANAS SOUTH|2002|          0.0|\n",
      "|24 PARGANAS SOUTH|2003|          0.0|\n",
      "|24 PARGANAS SOUTH|2004|          0.0|\n",
      "|24 PARGANAS SOUTH|2005|          0.0|\n",
      "|24 PARGANAS SOUTH|2006|          0.0|\n",
      "|24 PARGANAS SOUTH|2007|          0.0|\n",
      "|24 PARGANAS SOUTH|2008|          0.0|\n",
      "+-----------------+----+-------------+\n",
      "only showing top 20 rows\n",
      "\n"
     ]
    }
   ],
   "source": [
    "from pyspark.sql import SparkSession\n",
    "from pyspark.sql import functions as F\n",
    "\n",
    "# Create a SparkSession\n",
    "spark = SparkSession.builder \\\n",
    "    .appName(\"MurderAnalysis\") \\\n",
    "    .getOrCreate()\n",
    "\n",
    "# Assuming your DataFrame is named df1\n",
    "# Select the necessary columns for analysis\n",
    "murder_df = df1.select('STATE/UT', 'DISTRICT', 'Year', 'Murder')\n",
    "\n",
    "# Group by 'DISTRICT' and 'Year' and sum up the murders\n",
    "murder_count = murder_df.groupBy('DISTRICT', 'Year').agg(F.sum('Murder').alias('Total_Murders'))\n",
    "\n",
    "# Sort the result in ascending order by 'DISTRICT' and 'Year'\n",
    "sorted_murder_count = murder_count.orderBy('DISTRICT', 'Year')\n",
    "\n",
    "# Show the result\n",
    "sorted_murder_count.show()\n"
   ]
  },
  {
   "cell_type": "markdown",
   "id": "93679203",
   "metadata": {},
   "source": [
    "3.8.1\tInsert records of STATE/UT, DISTRICT, YEAR, MURDER, ATTEMPT TO MURDER, and RAPE columns only from 01_District_wise_crimes_committed_IPC_2001_2012.csv into a new table"
   ]
  },
  {
   "cell_type": "code",
   "execution_count": 31,
   "id": "dcefd8d5",
   "metadata": {},
   "outputs": [
    {
     "name": "stdout",
     "output_type": "stream",
     "text": [
      "Data from 'C:/Users/Sayan Mondal/Downloads/India_Crime - Copy/India_Crime - Copy/01_District_wise_crimes_committed_IPC_2001_2012.csv' successfully read into a DataFrame\n"
     ]
    }
   ],
   "source": [
    "from pyspark.sql import SparkSession\n",
    "\n",
    "# Create a SparkSession\n",
    "spark = SparkSession.builder.appName(\"CrimesData\").getOrCreate()\n",
    "\n",
    "# Define the path to your CSV file\n",
    "csv_path = \"C:/Users/Sayan Mondal/Downloads/India_Crime - Copy/India_Crime - Copy/01_District_wise_crimes_committed_IPC_2001_2012.csv\"\n",
    "\n",
    "# Read the CSV data into a DataFrame (without header)\n",
    "df2 = spark.read.csv(csv_path, header=False)\n",
    "\n",
    "# Print a message to confirm successful reading\n",
    "print(f\"Data from '{csv_path}' successfully read into a DataFrame\")"
   ]
  },
  {
   "cell_type": "code",
   "execution_count": 9,
   "id": "78cbd280",
   "metadata": {},
   "outputs": [
    {
     "name": "stdout",
     "output_type": "stream",
     "text": [
      "+--------------+--------------+----+------+-----------------+--------------------+----+--------------+----------+--------------------+--------------------+--------------------+-------+--------------------+-------+--------+-----+----------+-----------+-----+--------------------+--------+--------------+-----+------------------+------------+--------------------+--------------------+--------------------+--------------------+--------------------+----------------+----------------+\n",
      "|           _c0|           _c1| _c2|   _c3|              _c4|                 _c5| _c6|           _c7|       _c8|                 _c9|                _c10|                _c11|   _c12|                _c13|   _c14|    _c15| _c16|      _c17|       _c18| _c19|                _c20|    _c21|          _c22| _c23|              _c24|        _c25|                _c26|                _c27|                _c28|                _c29|                _c30|            _c31|            _c32|\n",
      "+--------------+--------------+----+------+-----------------+--------------------+----+--------------+----------+--------------------+--------------------+--------------------+-------+--------------------+-------+--------+-----+----------+-----------+-----+--------------------+--------+--------------+-----+------------------+------------+--------------------+--------------------+--------------------+--------------------+--------------------+----------------+----------------+\n",
      "|      STATE/UT|      DISTRICT|YEAR|MURDER|ATTEMPT TO MURDER|CULPABLE HOMICIDE...|RAPE|CUSTODIAL RAPE|OTHER RAPE|KIDNAPPING & ABDU...|KIDNAPPING AND AB...|KIDNAPPING AND AB...|DACOITY|PREPARATION AND A...|ROBBERY|BURGLARY|THEFT|AUTO THEFT|OTHER THEFT|RIOTS|CRIMINAL BREACH O...|CHEATING|COUNTERFIETING|ARSON|HURT/GREVIOUS HURT|DOWRY DEATHS|ASSAULT ON WOMEN ...|INSULT TO MODESTY...|CRUELTY BY HUSBAN...|IMPORTATION OF GI...|CAUSING DEATH BY ...|OTHER IPC CRIMES|TOTAL IPC CRIMES|\n",
      "|ANDHRA PRADESH|      ADILABAD|2001|   101|               60|                  17|  50|             0|        50|                  46|                  30|                  16|      9|                   0|     41|     198|  199|        22|        177|   78|                  16|     104|             1|   30|              1131|          16|                 149|                  34|                 175|                   0|                 181|            1518|            4154|\n",
      "|ANDHRA PRADESH|     ANANTAPUR|2001|   151|              125|                   1|  23|             0|        23|                  53|                  30|                  23|      8|                   0|     16|     191|  366|        57|        309|  168|                  11|      65|             8|   69|              1543|           7|                 118|                  24|                 154|                   0|                 270|             754|            4125|\n",
      "|ANDHRA PRADESH|      CHITTOOR|2001|   101|               57|                   2|  27|             0|        27|                  59|                  34|                  25|      4|                   0|     14|     237|  723|       164|        559|  156|                  33|     209|             9|   38|              2088|          14|                 112|                  83|                 186|                   0|                 404|            1262|            5818|\n",
      "|ANDHRA PRADESH|      CUDDAPAH|2001|    80|               53|                   1|  20|             0|        20|                  25|                  20|                   5|      1|                   0|      4|      98|  173|        36|        137|  164|                  12|      37|             2|   23|               795|          17|                 126|                  38|                  57|                   0|                 233|            1181|            3140|\n",
      "|ANDHRA PRADESH| EAST GODAVARI|2001|    82|               67|                   1|  23|             0|        23|                  49|                  26|                  23|      4|                   0|     25|     437| 1021|       150|        871|   70|                  50|     220|             3|   41|              1244|          12|                 109|                  58|                 247|                   0|                 431|            2313|            6507|\n",
      "|ANDHRA PRADESH| GUNTAKAL RLY.|2001|     3|                1|                   0|   0|             0|         0|                   0|                   0|                   0|      5|                   0|      2|       0|  162|         0|        162|    1|                   0|       0|             3|    0|                 1|           0|                   1|                   0|                   0|                   0|                   4|             104|             287|\n",
      "|ANDHRA PRADESH|        GUNTUR|2001|   182|               88|                   2|  54|             0|        54|                  82|                  51|                  31|     16|                   3|     59|     338| 1122|       171|        951|  244|                  67|     300|             8|   43|              1792|           7|                 139|                 129|                 378|                   0|                 369|            2426|            7848|\n",
      "|ANDHRA PRADESH|HYDERABAD CITY|2001|   111|              113|                   7|  37|             0|        37|                  80|                  39|                  41|     13|                   0|     67|    1155| 2792|      1128|       1664|   65|                 101|    1293|            24|    0|              3137|          24|                 118|                  27|                 746|                   0|                 409|            1512|           11831|\n",
      "|ANDHRA PRADESH|    KARIMNAGAR|2001|   162|               85|                   6|  56|             0|        56|                  67|                  49|                  18|     27|                   1|     50|     218|  392|        54|        338|  220|                  25|     243|             5|   33|              1392|          62|                 414|                  81|                 224|                   0|                 322|            1726|            5811|\n",
      "|ANDHRA PRADESH|       KHAMMAM|2001|    93|               60|                   1|  47|             0|        47|                  41|                  30|                  11|      1|                   0|     13|     172|  368|        34|        334|  153|                  35|     130|             5|   73|              1026|          17|                 180|                 336|                 172|                   0|                 209|            1450|            4582|\n",
      "|ANDHRA PRADESH|       KRISHNA|2001|    65|               51|                   0|  37|             0|        37|                  36|                  21|                  15|      3|                   0|     15|     163|  478|        27|        451|   70|                  24|     104|             1|   62|              1985|          10|                 208|                  72|                 265|                   0|                 268|             862|            4779|\n",
      "|ANDHRA PRADESH|       KURNOOL|2001|   133|               72|                   4|  29|             0|        29|                  47|                  47|                   0|      6|                   0|     22|     155|  297|         6|        291|   84|                   6|     126|             2|    5|              1547|          13|                 141|                 107|                  92|                   0|                 292|            1401|            4581|\n",
      "|ANDHRA PRADESH| MAHABOOBNAGAR|2001|   157|               67|                  26|  59|             0|        59|                  42|                  27|                  15|      8|                   0|     27|     249|  316|        33|        283|  157|                  22|      84|             0|    0|               867|          14|                 176|                  41|                  69|                   0|                 280|            2158|            4819|\n",
      "|ANDHRA PRADESH|         MEDAK|2001|   101|               56|                  12|  35|             0|        35|                  26|                  20|                   6|     27|                   0|     26|     219|  286|        36|        250|  100|                  17|      87|             4|   37|              1367|          26|                 100|                  25|                 192|                   0|                 335|             454|            3532|\n",
      "|ANDHRA PRADESH|      NALGONDA|2001|   122|               60|                   1|  35|             0|        35|                  27|                  19|                   8|      6|                   0|     28|     133|  318|        43|        275|  220|                  13|     122|             8|   72|              1132|          31|                 188|                  59|                 214|                   0|                 432|            1781|            5002|\n",
      "|ANDHRA PRADESH|       NELLORE|2001|    89|               69|                   5|  46|             0|        46|                  90|                  80|                  10|     12|                   2|     16|     244|  608|        72|        536|   97|                  20|     177|             3|   65|              1119|          10|                 207|                 228|                 287|                   0|                 266|            1585|            5245|\n",
      "|ANDHRA PRADESH|     NIZAMABAD|2001|   106|               49|                  14|  21|             0|        21|                  38|                  21|                  17|      7|                   0|     22|     158|  234|        48|        186|   51|                  61|     122|             1|   30|              1383|          19|                  55|                  15|                 228|                   0|                 220|             787|            3621|\n",
      "|ANDHRA PRADESH|     PRAKASHAM|2001|   102|               82|                   3|  19|             0|        19|                  31|                  12|                  19|     15|                   0|     14|     147|  278|        33|        245|  138|                  16|      88|             1|   43|              1266|           5|                 140|                 100|                 119|                   0|                 263|             808|            3678|\n",
      "|ANDHRA PRADESH|   RANGA REDDY|2001|   214|               95|                  16|  72|             0|        72|                 106|                  83|                  23|     24|                   3|     78|    1076| 1296|       347|        949|   65|                  67|     527|             3|   67|              2829|          37|                 113|                  55|                 421|                   7|                 593|            2103|            9867|\n",
      "+--------------+--------------+----+------+-----------------+--------------------+----+--------------+----------+--------------------+--------------------+--------------------+-------+--------------------+-------+--------+-----+----------+-----------+-----+--------------------+--------+--------------+-----+------------------+------------+--------------------+--------------------+--------------------+--------------------+--------------------+----------------+----------------+\n",
      "only showing top 20 rows\n",
      "\n"
     ]
    }
   ],
   "source": [
    "df2.show()"
   ]
  },
  {
   "cell_type": "code",
   "execution_count": 10,
   "id": "9c5b1847",
   "metadata": {},
   "outputs": [
    {
     "data": {
      "text/plain": [
       "['_c0',\n",
       " '_c1',\n",
       " '_c2',\n",
       " '_c3',\n",
       " '_c4',\n",
       " '_c5',\n",
       " '_c6',\n",
       " '_c7',\n",
       " '_c8',\n",
       " '_c9',\n",
       " '_c10',\n",
       " '_c11',\n",
       " '_c12',\n",
       " '_c13',\n",
       " '_c14',\n",
       " '_c15',\n",
       " '_c16',\n",
       " '_c17',\n",
       " '_c18',\n",
       " '_c19',\n",
       " '_c20',\n",
       " '_c21',\n",
       " '_c22',\n",
       " '_c23',\n",
       " '_c24',\n",
       " '_c25',\n",
       " '_c26',\n",
       " '_c27',\n",
       " '_c28',\n",
       " '_c29',\n",
       " '_c30',\n",
       " '_c31',\n",
       " '_c32']"
      ]
     },
     "execution_count": 10,
     "metadata": {},
     "output_type": "execute_result"
    }
   ],
   "source": [
    "df2.columns"
   ]
  },
  {
   "cell_type": "code",
   "execution_count": 11,
   "id": "ed79f08f",
   "metadata": {},
   "outputs": [
    {
     "name": "stdout",
     "output_type": "stream",
     "text": [
      "+--------------+-----------------+----+------+-----------------+-----------------------------------------+----+--------------+----------+----------------------+-------------------------------------------+----------------------------------+-------+------------------------------------+-------+--------+-----+----------+-----------+-----+------------------------+--------+--------------+-----+------------------+------------+---------------------------------------------------+--------------------------+-----------------------------------+-------------------------------------------+---------------------------+----------------+----------------+\n",
      "|      STATE/UT|         DISTRICT|YEAR|MURDER|ATTEMPT TO MURDER|CULPABLE HOMICIDE NOT AMOUNTING TO MURDER|RAPE|CUSTODIAL RAPE|OTHER RAPE|KIDNAPPING & ABDUCTION|KIDNAPPING AND ABDUCTION OF WOMEN AND GIRLS|KIDNAPPING AND ABDUCTION OF OTHERS|DACOITY|PREPARATION AND ASSEMBLY FOR DACOITY|ROBBERY|BURGLARY|THEFT|AUTO THEFT|OTHER THEFT|RIOTS|CRIMINAL BREACH OF TRUST|CHEATING|COUNTERFIETING|ARSON|HURT/GREVIOUS HURT|DOWRY DEATHS|ASSAULT ON WOMEN WITH INTENT TO OUTRAGE HER MODESTY|INSULT TO MODESTY OF WOMEN|CRUELTY BY HUSBAND OR HIS RELATIVES|IMPORTATION OF GIRLS FROM FOREIGN COUNTRIES|CAUSING DEATH BY NEGLIGENCE|OTHER IPC CRIMES|TOTAL IPC CRIMES|\n",
      "+--------------+-----------------+----+------+-----------------+-----------------------------------------+----+--------------+----------+----------------------+-------------------------------------------+----------------------------------+-------+------------------------------------+-------+--------+-----+----------+-----------+-----+------------------------+--------+--------------+-----+------------------+------------+---------------------------------------------------+--------------------------+-----------------------------------+-------------------------------------------+---------------------------+----------------+----------------+\n",
      "|ANDHRA PRADESH|         ADILABAD|2001|   101|               60|                                       17|  50|             0|        50|                    46|                                         30|                                16|      9|                                   0|     41|     198|  199|        22|        177|   78|                      16|     104|             1|   30|              1131|          16|                                                149|                        34|                                175|                                          0|                        181|            1518|            4154|\n",
      "|ANDHRA PRADESH|        ANANTAPUR|2001|   151|              125|                                        1|  23|             0|        23|                    53|                                         30|                                23|      8|                                   0|     16|     191|  366|        57|        309|  168|                      11|      65|             8|   69|              1543|           7|                                                118|                        24|                                154|                                          0|                        270|             754|            4125|\n",
      "|ANDHRA PRADESH|         CHITTOOR|2001|   101|               57|                                        2|  27|             0|        27|                    59|                                         34|                                25|      4|                                   0|     14|     237|  723|       164|        559|  156|                      33|     209|             9|   38|              2088|          14|                                                112|                        83|                                186|                                          0|                        404|            1262|            5818|\n",
      "|ANDHRA PRADESH|         CUDDAPAH|2001|    80|               53|                                        1|  20|             0|        20|                    25|                                         20|                                 5|      1|                                   0|      4|      98|  173|        36|        137|  164|                      12|      37|             2|   23|               795|          17|                                                126|                        38|                                 57|                                          0|                        233|            1181|            3140|\n",
      "|ANDHRA PRADESH|    EAST GODAVARI|2001|    82|               67|                                        1|  23|             0|        23|                    49|                                         26|                                23|      4|                                   0|     25|     437| 1021|       150|        871|   70|                      50|     220|             3|   41|              1244|          12|                                                109|                        58|                                247|                                          0|                        431|            2313|            6507|\n",
      "|ANDHRA PRADESH|    GUNTAKAL RLY.|2001|     3|                1|                                        0|   0|             0|         0|                     0|                                          0|                                 0|      5|                                   0|      2|       0|  162|         0|        162|    1|                       0|       0|             3|    0|                 1|           0|                                                  1|                         0|                                  0|                                          0|                          4|             104|             287|\n",
      "|ANDHRA PRADESH|           GUNTUR|2001|   182|               88|                                        2|  54|             0|        54|                    82|                                         51|                                31|     16|                                   3|     59|     338| 1122|       171|        951|  244|                      67|     300|             8|   43|              1792|           7|                                                139|                       129|                                378|                                          0|                        369|            2426|            7848|\n",
      "|ANDHRA PRADESH|   HYDERABAD CITY|2001|   111|              113|                                        7|  37|             0|        37|                    80|                                         39|                                41|     13|                                   0|     67|    1155| 2792|      1128|       1664|   65|                     101|    1293|            24|    0|              3137|          24|                                                118|                        27|                                746|                                          0|                        409|            1512|           11831|\n",
      "|ANDHRA PRADESH|       KARIMNAGAR|2001|   162|               85|                                        6|  56|             0|        56|                    67|                                         49|                                18|     27|                                   1|     50|     218|  392|        54|        338|  220|                      25|     243|             5|   33|              1392|          62|                                                414|                        81|                                224|                                          0|                        322|            1726|            5811|\n",
      "|ANDHRA PRADESH|          KHAMMAM|2001|    93|               60|                                        1|  47|             0|        47|                    41|                                         30|                                11|      1|                                   0|     13|     172|  368|        34|        334|  153|                      35|     130|             5|   73|              1026|          17|                                                180|                       336|                                172|                                          0|                        209|            1450|            4582|\n",
      "|ANDHRA PRADESH|          KRISHNA|2001|    65|               51|                                        0|  37|             0|        37|                    36|                                         21|                                15|      3|                                   0|     15|     163|  478|        27|        451|   70|                      24|     104|             1|   62|              1985|          10|                                                208|                        72|                                265|                                          0|                        268|             862|            4779|\n",
      "|ANDHRA PRADESH|          KURNOOL|2001|   133|               72|                                        4|  29|             0|        29|                    47|                                         47|                                 0|      6|                                   0|     22|     155|  297|         6|        291|   84|                       6|     126|             2|    5|              1547|          13|                                                141|                       107|                                 92|                                          0|                        292|            1401|            4581|\n",
      "|ANDHRA PRADESH|    MAHABOOBNAGAR|2001|   157|               67|                                       26|  59|             0|        59|                    42|                                         27|                                15|      8|                                   0|     27|     249|  316|        33|        283|  157|                      22|      84|             0|    0|               867|          14|                                                176|                        41|                                 69|                                          0|                        280|            2158|            4819|\n",
      "|ANDHRA PRADESH|            MEDAK|2001|   101|               56|                                       12|  35|             0|        35|                    26|                                         20|                                 6|     27|                                   0|     26|     219|  286|        36|        250|  100|                      17|      87|             4|   37|              1367|          26|                                                100|                        25|                                192|                                          0|                        335|             454|            3532|\n",
      "|ANDHRA PRADESH|         NALGONDA|2001|   122|               60|                                        1|  35|             0|        35|                    27|                                         19|                                 8|      6|                                   0|     28|     133|  318|        43|        275|  220|                      13|     122|             8|   72|              1132|          31|                                                188|                        59|                                214|                                          0|                        432|            1781|            5002|\n",
      "|ANDHRA PRADESH|          NELLORE|2001|    89|               69|                                        5|  46|             0|        46|                    90|                                         80|                                10|     12|                                   2|     16|     244|  608|        72|        536|   97|                      20|     177|             3|   65|              1119|          10|                                                207|                       228|                                287|                                          0|                        266|            1585|            5245|\n",
      "|ANDHRA PRADESH|        NIZAMABAD|2001|   106|               49|                                       14|  21|             0|        21|                    38|                                         21|                                17|      7|                                   0|     22|     158|  234|        48|        186|   51|                      61|     122|             1|   30|              1383|          19|                                                 55|                        15|                                228|                                          0|                        220|             787|            3621|\n",
      "|ANDHRA PRADESH|        PRAKASHAM|2001|   102|               82|                                        3|  19|             0|        19|                    31|                                         12|                                19|     15|                                   0|     14|     147|  278|        33|        245|  138|                      16|      88|             1|   43|              1266|           5|                                                140|                       100|                                119|                                          0|                        263|             808|            3678|\n",
      "|ANDHRA PRADESH|      RANGA REDDY|2001|   214|               95|                                       16|  72|             0|        72|                   106|                                         83|                                23|     24|                                   3|     78|    1076| 1296|       347|        949|   65|                      67|     527|             3|   67|              2829|          37|                                                113|                        55|                                421|                                          7|                        593|            2103|            9867|\n",
      "|ANDHRA PRADESH|SECUNDERABAD RLY.|2001|     6|                0|                                        0|   0|             0|         0|                     0|                                          0|                                 0|      0|                                   0|     10|       2|  296|         0|        296|    1|                       2|       4|            25|    0|                17|           1|                                                  0|                         1|                                  0|                                          0|                          6|              68|             439|\n",
      "+--------------+-----------------+----+------+-----------------+-----------------------------------------+----+--------------+----------+----------------------+-------------------------------------------+----------------------------------+-------+------------------------------------+-------+--------+-----+----------+-----------+-----+------------------------+--------+--------------+-----+------------------+------------+---------------------------------------------------+--------------------------+-----------------------------------+-------------------------------------------+---------------------------+----------------+----------------+\n",
      "only showing top 20 rows\n",
      "\n"
     ]
    }
   ],
   "source": [
    "# Delete the first row (column headings row)\n",
    "df2 = df2.filter(df2[\"_c0\"] != \"column_heading_1\")\n",
    "\n",
    "# Set the first row as column names\n",
    "new_columns = df2.first()\n",
    "df2 = df2.filter(df2._c0 != new_columns[0])\n",
    "df2 = df2.toDF(*new_columns)\n",
    "\n",
    "# Show the resulting dataframe\n",
    "df2.show()"
   ]
  },
  {
   "cell_type": "code",
   "execution_count": 12,
   "id": "9f6a01ef",
   "metadata": {},
   "outputs": [
    {
     "data": {
      "text/plain": [
       "['STATE/UT',\n",
       " 'DISTRICT',\n",
       " 'YEAR',\n",
       " 'MURDER',\n",
       " 'ATTEMPT TO MURDER',\n",
       " 'CULPABLE HOMICIDE NOT AMOUNTING TO MURDER',\n",
       " 'RAPE',\n",
       " 'CUSTODIAL RAPE',\n",
       " 'OTHER RAPE',\n",
       " 'KIDNAPPING & ABDUCTION',\n",
       " 'KIDNAPPING AND ABDUCTION OF WOMEN AND GIRLS',\n",
       " 'KIDNAPPING AND ABDUCTION OF OTHERS',\n",
       " 'DACOITY',\n",
       " 'PREPARATION AND ASSEMBLY FOR DACOITY',\n",
       " 'ROBBERY',\n",
       " 'BURGLARY',\n",
       " 'THEFT',\n",
       " 'AUTO THEFT',\n",
       " 'OTHER THEFT',\n",
       " 'RIOTS',\n",
       " 'CRIMINAL BREACH OF TRUST',\n",
       " 'CHEATING',\n",
       " 'COUNTERFIETING',\n",
       " 'ARSON',\n",
       " 'HURT/GREVIOUS HURT',\n",
       " 'DOWRY DEATHS',\n",
       " 'ASSAULT ON WOMEN WITH INTENT TO OUTRAGE HER MODESTY',\n",
       " 'INSULT TO MODESTY OF WOMEN',\n",
       " 'CRUELTY BY HUSBAND OR HIS RELATIVES',\n",
       " 'IMPORTATION OF GIRLS FROM FOREIGN COUNTRIES',\n",
       " 'CAUSING DEATH BY NEGLIGENCE',\n",
       " 'OTHER IPC CRIMES',\n",
       " 'TOTAL IPC CRIMES']"
      ]
     },
     "execution_count": 12,
     "metadata": {},
     "output_type": "execute_result"
    }
   ],
   "source": [
    "df2.columns"
   ]
  },
  {
   "cell_type": "markdown",
   "id": "87600847",
   "metadata": {},
   "source": [
    "3.8.1\tInsert records of STATE/UT, DISTRICT, YEAR, MURDER, ATTEMPT TO MURDER, and RAPE columns only from 01_District_wise_crimes_committed_IPC_2001_2012.csv into a new table"
   ]
  },
  {
   "cell_type": "markdown",
   "id": "fc26e527",
   "metadata": {},
   "source": [
    "CHECKING COLUMNS TO VERIFY BEFORE QUERY"
   ]
  },
  {
   "cell_type": "code",
   "execution_count": 13,
   "id": "de0e16ee",
   "metadata": {},
   "outputs": [
    {
     "name": "stdout",
     "output_type": "stream",
     "text": [
      "+--------------+-----------------+----+------+-----------------+----+\n",
      "|      STATE/UT|         DISTRICT|YEAR|MURDER|ATTEMPT TO MURDER|RAPE|\n",
      "+--------------+-----------------+----+------+-----------------+----+\n",
      "|ANDHRA PRADESH|         ADILABAD|2001|   101|               60|  50|\n",
      "|ANDHRA PRADESH|        ANANTAPUR|2001|   151|              125|  23|\n",
      "|ANDHRA PRADESH|         CHITTOOR|2001|   101|               57|  27|\n",
      "|ANDHRA PRADESH|         CUDDAPAH|2001|    80|               53|  20|\n",
      "|ANDHRA PRADESH|    EAST GODAVARI|2001|    82|               67|  23|\n",
      "|ANDHRA PRADESH|    GUNTAKAL RLY.|2001|     3|                1|   0|\n",
      "|ANDHRA PRADESH|           GUNTUR|2001|   182|               88|  54|\n",
      "|ANDHRA PRADESH|   HYDERABAD CITY|2001|   111|              113|  37|\n",
      "|ANDHRA PRADESH|       KARIMNAGAR|2001|   162|               85|  56|\n",
      "|ANDHRA PRADESH|          KHAMMAM|2001|    93|               60|  47|\n",
      "|ANDHRA PRADESH|          KRISHNA|2001|    65|               51|  37|\n",
      "|ANDHRA PRADESH|          KURNOOL|2001|   133|               72|  29|\n",
      "|ANDHRA PRADESH|    MAHABOOBNAGAR|2001|   157|               67|  59|\n",
      "|ANDHRA PRADESH|            MEDAK|2001|   101|               56|  35|\n",
      "|ANDHRA PRADESH|         NALGONDA|2001|   122|               60|  35|\n",
      "|ANDHRA PRADESH|          NELLORE|2001|    89|               69|  46|\n",
      "|ANDHRA PRADESH|        NIZAMABAD|2001|   106|               49|  21|\n",
      "|ANDHRA PRADESH|        PRAKASHAM|2001|   102|               82|  19|\n",
      "|ANDHRA PRADESH|      RANGA REDDY|2001|   214|               95|  72|\n",
      "|ANDHRA PRADESH|SECUNDERABAD RLY.|2001|     6|                0|   0|\n",
      "+--------------+-----------------+----+------+-----------------+----+\n",
      "only showing top 20 rows\n",
      "\n"
     ]
    }
   ],
   "source": [
    "new_df = df2.select(\"STATE/UT\", \"DISTRICT\", \"YEAR\", \"MURDER\", \"ATTEMPT TO MURDER\", \"RAPE\")\n",
    "\n",
    "new_df.show()"
   ]
  },
  {
   "cell_type": "markdown",
   "id": "f0115171",
   "metadata": {},
   "source": [
    "RECHECKING TOTAL COLUMNS"
   ]
  },
  {
   "cell_type": "code",
   "execution_count": 14,
   "id": "4ad45628",
   "metadata": {},
   "outputs": [
    {
     "data": {
      "text/plain": [
       "['STATE/UT', 'DISTRICT', 'YEAR', 'MURDER', 'ATTEMPT TO MURDER', 'RAPE']"
      ]
     },
     "execution_count": 14,
     "metadata": {},
     "output_type": "execute_result"
    }
   ],
   "source": [
    "new_df.columns"
   ]
  },
  {
   "cell_type": "markdown",
   "id": "d95200c2",
   "metadata": {},
   "source": [
    "3.8.2\tWrite SQL query to find which District in each state/ut has the highest number of murders yearwise. Your output should show STATE/UT, YEAR, DISTRICT, and MURDERS."
   ]
  },
  {
   "cell_type": "code",
   "execution_count": 15,
   "id": "7d1d66c6",
   "metadata": {},
   "outputs": [
    {
     "name": "stdout",
     "output_type": "stream",
     "text": [
      "+--------------+---------------+----+------+\n",
      "|      STATE/UT|       DISTRICT|YEAR|MURDER|\n",
      "+--------------+---------------+----+------+\n",
      "| A & N ISLANDS|        ANDAMAN|2001|    13|\n",
      "| A & N ISLANDS|        NICOBAR|2002|     3|\n",
      "| A & N ISLANDS|        NICOBAR|2003|     5|\n",
      "| A & N ISLANDS|        NICOBAR|2004|     2|\n",
      "| A & N ISLANDS|        ANDAMAN|2005|    14|\n",
      "| A & N ISLANDS|          TOTAL|2006|     4|\n",
      "| A & N ISLANDS|A and N ISLANDS|2007|    15|\n",
      "| A & N ISLANDS|        ANDAMAN|2008|     8|\n",
      "| A & N ISLANDS|        ANDAMAN|2009|    15|\n",
      "| A & N ISLANDS|          TOTAL|2010|     9|\n",
      "| A & N ISLANDS|        ANDAMAN|2011|    14|\n",
      "| A & N ISLANDS|          SOUTH|2012|     8|\n",
      "|ANDHRA PRADESH|        KHAMMAM|2001|    93|\n",
      "|ANDHRA PRADESH|  EAST GODAVARI|2002|    97|\n",
      "|ANDHRA PRADESH|       CUDDAPAH|2003|    95|\n",
      "|ANDHRA PRADESH|       CUDDAPAH|2004|    96|\n",
      "|ANDHRA PRADESH|       CUDDAPAH|2005|    96|\n",
      "|ANDHRA PRADESH|       ADILABAD|2006|    99|\n",
      "|ANDHRA PRADESH|  EAST GODAVARI|2007|    99|\n",
      "|ANDHRA PRADESH|    RANGA REDDY|2008|    91|\n",
      "+--------------+---------------+----+------+\n",
      "only showing top 20 rows\n",
      "\n"
     ]
    }
   ],
   "source": [
    "from pyspark.sql import functions as F\n",
    "from pyspark.sql.window import Window\n",
    "\n",
    "# Define a window specification partitioned by STATE/UT and YEAR, and ordered by MURDER in descending order\n",
    "window_spec = Window.partitionBy(\"STATE/UT\", \"YEAR\").orderBy(F.col(\"MURDER\").desc())\n",
    "\n",
    "# Add a row number column to each partition\n",
    "new_df_with_row_number = new_df.withColumn(\"rn\", F.row_number().over(window_spec))\n",
    "\n",
    "# Filter the rows where the row number is 1 (i.e., the row with the highest number of murders in each partition)\n",
    "district_with_highest_murder = new_df_with_row_number.filter(F.col(\"rn\") == 1)\n",
    "\n",
    "# Select the required columns\n",
    "result = district_with_highest_murder.select(\"STATE/UT\", \"DISTRICT\", \"YEAR\", \"MURDER\")\n",
    "\n",
    "# Show the result\n",
    "result.show()"
   ]
  },
  {
   "cell_type": "markdown",
   "id": "e352952c",
   "metadata": {},
   "source": [
    "3.8.3\tStore the above data (the result of 3.2) in DataFrame and analyze districts that appear 3 or more than 3 years and print the corresponding state/ut, district, murders, and year in descending order."
   ]
  },
  {
   "cell_type": "code",
   "execution_count": 16,
   "id": "0a9d20a6",
   "metadata": {},
   "outputs": [
    {
     "name": "stdout",
     "output_type": "stream",
     "text": [
      "+-----------------+-----+----+----------+\n",
      "|         DISTRICT|Years|Year|Total_Rape|\n",
      "+-----------------+-----+----+----------+\n",
      "|24 PARGANAS NORTH|   12|2007|       231|\n",
      "|24 PARGANAS NORTH|   12|2005|       217|\n",
      "|24 PARGANAS NORTH|   12|2011|       203|\n",
      "|24 PARGANAS NORTH|   12|2008|       192|\n",
      "|24 PARGANAS NORTH|   12|2004|       176|\n",
      "|24 PARGANAS NORTH|   12|2006|       174|\n",
      "|24 PARGANAS NORTH|   12|2010|       173|\n",
      "|24 PARGANAS NORTH|   12|2009|       166|\n",
      "|24 PARGANAS NORTH|   12|2012|       118|\n",
      "|24 PARGANAS NORTH|   12|2003|        92|\n",
      "|24 PARGANAS NORTH|   12|2002|        88|\n",
      "|24 PARGANAS NORTH|   12|2001|        53|\n",
      "|24 PARGANAS SOUTH|   12|2008|       308|\n",
      "|24 PARGANAS SOUTH|   12|2009|       280|\n",
      "|24 PARGANAS SOUTH|   12|2011|       274|\n",
      "|24 PARGANAS SOUTH|   12|2010|       258|\n",
      "|24 PARGANAS SOUTH|   12|2012|       244|\n",
      "|24 PARGANAS SOUTH|   12|2007|       205|\n",
      "|24 PARGANAS SOUTH|   12|2006|       190|\n",
      "|24 PARGANAS SOUTH|   12|2005|       136|\n",
      "+-----------------+-----+----+----------+\n",
      "only showing top 20 rows\n",
      "\n"
     ]
    }
   ],
   "source": [
    "from pyspark.sql import functions as F\n",
    "\n",
    "# Filter the DataFrame for 'Murder' column\n",
    "murder_df = df.select('DISTRICT', 'Year', 'Rape')\n",
    "\n",
    "# Group by 'DISTRICT' and 'Year' and sum up the murders\n",
    "murder_count = murder_df.groupBy('DISTRICT', 'Year').agg(F.sum('Rape').alias('Total_Rape'))\n",
    "\n",
    "# Count the number of years each district appears\n",
    "district_year_count = murder_count.groupBy('DISTRICT').agg(F.countDistinct('Year').alias('Years'))\n",
    "\n",
    "# Filter districts that appear 3 or more than 3 years\n",
    "districts_to_analyze = district_year_count.filter('Years >= 3')\n",
    "\n",
    "# Join the filtered districts with the murder_count DataFrame to get the corresponding state/UT and year\n",
    "result = districts_to_analyze.join(murder_count, on='DISTRICT', how='inner')\n",
    "\n",
    "# Show the result sorted by state/UT, district, murders, and year in descending order\n",
    "result.orderBy('DISTRICT', 'Total_Rape', 'Year', ascending=[True, False, False]).show()"
   ]
  },
  {
   "cell_type": "markdown",
   "id": "1380996c",
   "metadata": {},
   "source": [
    "3.8.4\tUse appropriate graphs to show your data (the result of 3.8.3)"
   ]
  },
  {
   "cell_type": "code",
   "execution_count": 28,
   "id": "3d14f2e7",
   "metadata": {},
   "outputs": [
    {
     "ename": "AnalysisException",
     "evalue": "[UNRESOLVED_COLUMN.WITH_SUGGESTION] A column or function parameter with name `Total_Rape` cannot be resolved. Did you mean one of the following? [`STATE/UT`, `DISTRICT`, `Year`, `Rape`, `Kidnapping and Abduction`].",
     "output_type": "error",
     "traceback": [
      "\u001b[1;31m---------------------------------------------------------------------------\u001b[0m",
      "\u001b[1;31mAnalysisException\u001b[0m                         Traceback (most recent call last)",
      "Cell \u001b[1;32mIn[28], line 7\u001b[0m\n\u001b[0;32m      5\u001b[0m \u001b[38;5;66;03m# Plot the total number of rapes for each district\u001b[39;00m\n\u001b[0;32m      6\u001b[0m plt\u001b[38;5;241m.\u001b[39mfigure(figsize\u001b[38;5;241m=\u001b[39m(\u001b[38;5;241m12\u001b[39m, \u001b[38;5;241m6\u001b[39m))\n\u001b[1;32m----> 7\u001b[0m plt\u001b[38;5;241m.\u001b[39mbar(result[\u001b[38;5;124m'\u001b[39m\u001b[38;5;124mDISTRICT\u001b[39m\u001b[38;5;124m'\u001b[39m], \u001b[43mresult\u001b[49m\u001b[43m[\u001b[49m\u001b[38;5;124;43m'\u001b[39;49m\u001b[38;5;124;43mTotal_Rape\u001b[39;49m\u001b[38;5;124;43m'\u001b[39;49m\u001b[43m]\u001b[49m, color\u001b[38;5;241m=\u001b[39m\u001b[38;5;124m'\u001b[39m\u001b[38;5;124mskyblue\u001b[39m\u001b[38;5;124m'\u001b[39m)\n\u001b[0;32m      8\u001b[0m plt\u001b[38;5;241m.\u001b[39mxlabel(\u001b[38;5;124m'\u001b[39m\u001b[38;5;124mDistrict\u001b[39m\u001b[38;5;124m'\u001b[39m)\n\u001b[0;32m      9\u001b[0m plt\u001b[38;5;241m.\u001b[39mylabel(\u001b[38;5;124m'\u001b[39m\u001b[38;5;124mTotal Rapes\u001b[39m\u001b[38;5;124m'\u001b[39m)\n",
      "File \u001b[1;32m~\\anaconda3\\lib\\site-packages\\pyspark\\sql\\dataframe.py:3078\u001b[0m, in \u001b[0;36mDataFrame.__getitem__\u001b[1;34m(self, item)\u001b[0m\n\u001b[0;32m   3006\u001b[0m \u001b[38;5;124;03m\"\"\"Returns the column as a :class:`Column`.\u001b[39;00m\n\u001b[0;32m   3007\u001b[0m \n\u001b[0;32m   3008\u001b[0m \u001b[38;5;124;03m.. versionadded:: 1.3.0\u001b[39;00m\n\u001b[1;32m   (...)\u001b[0m\n\u001b[0;32m   3075\u001b[0m \u001b[38;5;124;03m+---+----+\u001b[39;00m\n\u001b[0;32m   3076\u001b[0m \u001b[38;5;124;03m\"\"\"\u001b[39;00m\n\u001b[0;32m   3077\u001b[0m \u001b[38;5;28;01mif\u001b[39;00m \u001b[38;5;28misinstance\u001b[39m(item, \u001b[38;5;28mstr\u001b[39m):\n\u001b[1;32m-> 3078\u001b[0m     jc \u001b[38;5;241m=\u001b[39m \u001b[38;5;28;43mself\u001b[39;49m\u001b[38;5;241;43m.\u001b[39;49m\u001b[43m_jdf\u001b[49m\u001b[38;5;241;43m.\u001b[39;49m\u001b[43mapply\u001b[49m\u001b[43m(\u001b[49m\u001b[43mitem\u001b[49m\u001b[43m)\u001b[49m\n\u001b[0;32m   3079\u001b[0m     \u001b[38;5;28;01mreturn\u001b[39;00m Column(jc)\n\u001b[0;32m   3080\u001b[0m \u001b[38;5;28;01melif\u001b[39;00m \u001b[38;5;28misinstance\u001b[39m(item, Column):\n",
      "File \u001b[1;32m~\\anaconda3\\lib\\site-packages\\py4j\\java_gateway.py:1322\u001b[0m, in \u001b[0;36mJavaMember.__call__\u001b[1;34m(self, *args)\u001b[0m\n\u001b[0;32m   1316\u001b[0m command \u001b[38;5;241m=\u001b[39m proto\u001b[38;5;241m.\u001b[39mCALL_COMMAND_NAME \u001b[38;5;241m+\u001b[39m\\\n\u001b[0;32m   1317\u001b[0m     \u001b[38;5;28mself\u001b[39m\u001b[38;5;241m.\u001b[39mcommand_header \u001b[38;5;241m+\u001b[39m\\\n\u001b[0;32m   1318\u001b[0m     args_command \u001b[38;5;241m+\u001b[39m\\\n\u001b[0;32m   1319\u001b[0m     proto\u001b[38;5;241m.\u001b[39mEND_COMMAND_PART\n\u001b[0;32m   1321\u001b[0m answer \u001b[38;5;241m=\u001b[39m \u001b[38;5;28mself\u001b[39m\u001b[38;5;241m.\u001b[39mgateway_client\u001b[38;5;241m.\u001b[39msend_command(command)\n\u001b[1;32m-> 1322\u001b[0m return_value \u001b[38;5;241m=\u001b[39m \u001b[43mget_return_value\u001b[49m\u001b[43m(\u001b[49m\n\u001b[0;32m   1323\u001b[0m \u001b[43m    \u001b[49m\u001b[43manswer\u001b[49m\u001b[43m,\u001b[49m\u001b[43m \u001b[49m\u001b[38;5;28;43mself\u001b[39;49m\u001b[38;5;241;43m.\u001b[39;49m\u001b[43mgateway_client\u001b[49m\u001b[43m,\u001b[49m\u001b[43m \u001b[49m\u001b[38;5;28;43mself\u001b[39;49m\u001b[38;5;241;43m.\u001b[39;49m\u001b[43mtarget_id\u001b[49m\u001b[43m,\u001b[49m\u001b[43m \u001b[49m\u001b[38;5;28;43mself\u001b[39;49m\u001b[38;5;241;43m.\u001b[39;49m\u001b[43mname\u001b[49m\u001b[43m)\u001b[49m\n\u001b[0;32m   1325\u001b[0m \u001b[38;5;28;01mfor\u001b[39;00m temp_arg \u001b[38;5;129;01min\u001b[39;00m temp_args:\n\u001b[0;32m   1326\u001b[0m     \u001b[38;5;28;01mif\u001b[39;00m \u001b[38;5;28mhasattr\u001b[39m(temp_arg, \u001b[38;5;124m\"\u001b[39m\u001b[38;5;124m_detach\u001b[39m\u001b[38;5;124m\"\u001b[39m):\n",
      "File \u001b[1;32m~\\anaconda3\\lib\\site-packages\\pyspark\\errors\\exceptions\\captured.py:185\u001b[0m, in \u001b[0;36mcapture_sql_exception.<locals>.deco\u001b[1;34m(*a, **kw)\u001b[0m\n\u001b[0;32m    181\u001b[0m converted \u001b[38;5;241m=\u001b[39m convert_exception(e\u001b[38;5;241m.\u001b[39mjava_exception)\n\u001b[0;32m    182\u001b[0m \u001b[38;5;28;01mif\u001b[39;00m \u001b[38;5;129;01mnot\u001b[39;00m \u001b[38;5;28misinstance\u001b[39m(converted, UnknownException):\n\u001b[0;32m    183\u001b[0m     \u001b[38;5;66;03m# Hide where the exception came from that shows a non-Pythonic\u001b[39;00m\n\u001b[0;32m    184\u001b[0m     \u001b[38;5;66;03m# JVM exception message.\u001b[39;00m\n\u001b[1;32m--> 185\u001b[0m     \u001b[38;5;28;01mraise\u001b[39;00m converted \u001b[38;5;28;01mfrom\u001b[39;00m \u001b[38;5;28mNone\u001b[39m\n\u001b[0;32m    186\u001b[0m \u001b[38;5;28;01melse\u001b[39;00m:\n\u001b[0;32m    187\u001b[0m     \u001b[38;5;28;01mraise\u001b[39;00m\n",
      "\u001b[1;31mAnalysisException\u001b[0m: [UNRESOLVED_COLUMN.WITH_SUGGESTION] A column or function parameter with name `Total_Rape` cannot be resolved. Did you mean one of the following? [`STATE/UT`, `DISTRICT`, `Year`, `Rape`, `Kidnapping and Abduction`]."
     ]
    },
    {
     "data": {
      "text/plain": [
       "<Figure size 1200x600 with 0 Axes>"
      ]
     },
     "metadata": {},
     "output_type": "display_data"
    }
   ],
   "source": [
    "from pyspark.sql import SparkSession\n",
    "from pyspark.sql import functions as F\n",
    "import matplotlib.pyplot as plt\n",
    "\n",
    "# Plot the total number of rapes for each district\n",
    "plt.figure(figsize=(12, 6))\n",
    "plt.bar(result['DISTRICT'], result['Total_Rape'], color='skyblue')\n",
    "plt.xlabel('District')\n",
    "plt.ylabel('Total Rapes')\n",
    "plt.title('Total Rapes in Districts Appearing 3 or More Years')\n",
    "plt.xticks(rotation=90)\n",
    "plt.tight_layout()\n",
    "plt.show()"
   ]
  },
  {
   "cell_type": "code",
   "execution_count": null,
   "id": "a81a99a3",
   "metadata": {},
   "outputs": [],
   "source": []
  }
 ],
 "metadata": {
  "kernelspec": {
   "display_name": "Python 3 (ipykernel)",
   "language": "python",
   "name": "python3"
  },
  "language_info": {
   "codemirror_mode": {
    "name": "ipython",
    "version": 3
   },
   "file_extension": ".py",
   "mimetype": "text/x-python",
   "name": "python",
   "nbconvert_exporter": "python",
   "pygments_lexer": "ipython3",
   "version": "3.10.9"
  }
 },
 "nbformat": 4,
 "nbformat_minor": 5
}
